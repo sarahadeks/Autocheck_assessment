{
 "cells": [
  {
   "cell_type": "markdown",
   "id": "e2da65c7-01bc-4df6-a573-be07cbd53c9b",
   "metadata": {},
   "source": [
    "import the necessary library"
   ]
  },
  {
   "cell_type": "code",
   "execution_count": 22,
   "id": "93e0857b-4013-4e65-921b-4e713749e045",
   "metadata": {},
   "outputs": [],
   "source": [
    "import pandas as pd\n",
    "# !pip install psycopg2\n",
    "import pandas as pd\n",
    "import psycopg2\n",
    "from psycopg2 import Error\n",
    "from sqlalchemy import create_engine\n"
   ]
  },
  {
   "cell_type": "code",
   "execution_count": 3,
   "id": "e4018701-92f1-49b9-a2ea-945bfa97f649",
   "metadata": {},
   "outputs": [],
   "source": [
    "# Provide the file paths to the downloaded CSV files\n",
    "borrower_csv_path = 'Borrower_Data - Sheet1.csv'\n",
    "loan_csv_path = 'Loan_Data - Sheet1 - Loan_Data - Sheet1.csv'\n",
    "payment_schedule_csv_path = 'Schedule_Data.xlsx - Sheet1.csv'\n",
    "repayment_csv_path = 'Repayment_Data - Sheet1 - Repayment_Data - Sheet1 (1).csv'\n",
    "\n",
    "# Read the CSV files into pandas DataFrames\n",
    "borrower_df = pd.read_csv(borrower_csv_path)\n",
    "loan_df = pd.read_csv(loan_csv_path)\n",
    "payment_schedule_df = pd.read_csv(payment_schedule_csv_path)\n",
    "repayment_df = pd.read_csv(repayment_csv_path)\n"
   ]
  },
  {
   "cell_type": "code",
   "execution_count": 7,
   "id": "a5a8eb19-c14d-498a-91f3-73357dbe2e80",
   "metadata": {},
   "outputs": [],
   "source": [
    "repayment_df['Amount_paid'] = pd.to_numeric(repayment_df['Amount_paid'], errors='coerce')\n"
   ]
  },
  {
   "cell_type": "code",
   "execution_count": 8,
   "id": "1a3b4d64-d3cf-4a0d-9c0d-2770a5841397",
   "metadata": {},
   "outputs": [],
   "source": [
    "repayment_df['amount_at_risk'] = repayment_df.groupby('loan_id(fk)')['Amount_paid'].cumsum()"
   ]
  },
  {
   "cell_type": "code",
   "execution_count": 9,
   "id": "608dae05-f88b-4e80-81cf-09920e02bab1",
   "metadata": {},
   "outputs": [
    {
     "name": "stdout",
     "output_type": "stream",
     "text": [
      "\n",
      "SELECT borrower.Borrower_id, borrower.State, borrower.City, borrower.zip_code,\n",
      "       loan.Loan_id, loan.Term, loan.InterestRate, loan.LoanAmount, loan.Downpayment,\n",
      "       payment_schedule.Expected_payment_date, payment_schedule.Expected_payment_amount,\n",
      "       loan_payment.PAR_Days, loan_payment.amount_at_risk\n",
      "FROM Borrower_table AS borrower\n",
      "JOIN Loan_table AS loan ON borrower.Borrower_id = loan.Borrower_id\n",
      "JOIN Payment_Schedule AS payment_schedule ON loan.Loan_id = payment_schedule.loan_id\n",
      "JOIN Loan_payment AS loan_payment ON loan.Loan_id = loan_payment.loan_id\n",
      "ORDER BY borrower.Borrower_id, loan.Loan_id, payment_schedule.Expected_payment_date\n",
      "\n"
     ]
    }
   ],
   "source": [
    "# Calculate PAR Days\n",
    "repayment_df['Date_paid'] = pd.to_datetime(repayment_df['Date_paid'])\n",
    "payment_schedule_df['Expected_payment_date'] = pd.to_datetime(payment_schedule_df['Expected_payment_date'])\n",
    "repayment_df['PAR_Days'] = (repayment_df['Date_paid'] - payment_schedule_df['Expected_payment_date']).dt.days\n",
    "\n",
    "# Calculate amount_at_risk\n",
    "repayment_df['amount_at_risk'] = repayment_df.groupby('loan_id(fk)')['Amount_paid'].cumsum()\n",
    "\n",
    "# Generate the SQL query using the desired columns\n",
    "query = '''\n",
    "SELECT borrower.Borrower_id, borrower.State, borrower.City, borrower.zip_code,\n",
    "       loan.Loan_id, loan.Term, loan.InterestRate, loan.LoanAmount, loan.Downpayment,\n",
    "       payment_schedule.Expected_payment_date, payment_schedule.Expected_payment_amount,\n",
    "       loan_payment.PAR_Days, loan_payment.amount_at_risk\n",
    "FROM Borrower_table AS borrower\n",
    "JOIN Loan_table AS loan ON borrower.Borrower_id = loan.Borrower_id\n",
    "JOIN Payment_Schedule AS payment_schedule ON loan.Loan_id = payment_schedule.loan_id\n",
    "JOIN Loan_payment AS loan_payment ON loan.Loan_id = loan_payment.loan_id\n",
    "ORDER BY borrower.Borrower_id, loan.Loan_id, payment_schedule.Expected_payment_date\n",
    "'''\n",
    "\n",
    "# Print the SQL query\n",
    "print(query)\n"
   ]
  },
  {
   "cell_type": "code",
   "execution_count": 5,
   "id": "a3273f64-9038-4d40-82ce-6c21e7091fa2",
   "metadata": {},
   "outputs": [
    {
     "name": "stdout",
     "output_type": "stream",
     "text": [
      "Index(['loan_id(fk)', 'payment_id(pk)', 'Amount_paid', 'Date_paid',\n",
      "       'PAR_Days'],\n",
      "      dtype='object')\n"
     ]
    }
   ],
   "source": [
    "print(repayment_df.columns)\n"
   ]
  },
  {
   "cell_type": "code",
   "execution_count": 18,
   "id": "1bda72fa-d93a-4b6c-9878-40b6d1ba5b38",
   "metadata": {},
   "outputs": [
    {
     "name": "stdout",
     "output_type": "stream",
     "text": [
      "Successfully connected to the PostgreSQL database\n"
     ]
    }
   ],
   "source": [
    "try:\n",
    "    # Replace the connection details with your own\n",
    "    connection = psycopg2.connect(\n",
    "        host=\"localhost\",\n",
    "        database=\"autochek_db\",\n",
    "        user=\"auto\",\n",
    "        password=\"auto\"\n",
    "    )\n",
    "    cursor = connection.cursor()\n",
    "    print(\"Successfully connected to the PostgreSQL database\")\n",
    "\n",
    "except (Exception, Error) as e:\n",
    "    print(\"Error while connecting to the PostgreSQL database:\", e)\n"
   ]
  },
  {
   "cell_type": "code",
   "execution_count": 61,
   "id": "4b79be01-006f-42aa-b9e5-c73b103b70fa",
   "metadata": {},
   "outputs": [
    {
     "name": "stdout",
     "output_type": "stream",
     "text": [
      "Tables created successfully\n"
     ]
    }
   ],
   "source": [
    "# SQL statements to create the tables\n",
    "create_table_queries = [\n",
    "    '''\n",
    "    CREATE TABLE IF NOT EXISTS Borrower_table (\n",
    "        Borrower_id INTEGER PRIMARY KEY,\n",
    "        State TEXT,\n",
    "        City TEXT,\n",
    "        zip_code TEXT\n",
    "    );\n",
    "    ''',\n",
    "    '''\n",
    "    CREATE TABLE IF NOT EXISTS Loan_table (\n",
    "        Borrower_id INTEGER REFERENCES Borrower_table (Borrower_id),\n",
    "        Loan_id INTEGER PRIMARY KEY,\n",
    "        Date_of_release DATE,\n",
    "        Term INTEGER,\n",
    "        InterestRate FLOAT,\n",
    "        LoanAmount FLOAT,\n",
    "        Downpayment FLOAT,\n",
    "        Payment_frequency TEXT,\n",
    "        Maturity_date DATE\n",
    "    );\n",
    "    ''',\n",
    "    '''\n",
    "    CREATE TABLE IF NOT EXISTS Schedule_Table (\n",
    "        loan_id INTEGER REFERENCES Loan_table (Loan_id),\n",
    "        schedule_id INTEGER PRIMARY KEY,\n",
    "        Expected_payment_date DATE,\n",
    "        Expected_payment_amount FLOAT\n",
    "    );\n",
    "    ''',\n",
    "    '''\n",
    "    CREATE TABLE IF NOT EXISTS Repayment_Table (\n",
    "        loan_id INTEGER REFERENCES Loan_table (Loan_id),\n",
    "        payment_id INTEGER PRIMARY KEY,\n",
    "        Amount_paid FLOAT,\n",
    "        Date_paid DATE,\n",
    "        PAR_Days INTEGER,\n",
    "        amount_at_risk FLOAT\n",
    "    );\n",
    "    '''\n",
    "]\n",
    "\n",
    "try:\n",
    "    # Execute the create table queries\n",
    "    for query in create_table_queries:\n",
    "        cursor.execute(query)\n",
    "    connection.commit()\n",
    "    print(\"Tables created successfully\")\n",
    "\n",
    "except (Exception, Error) as e:\n",
    "    print(\"Error while creating tables:\", e)\n"
   ]
  },
  {
   "cell_type": "code",
   "execution_count": 62,
   "id": "288dd41b-00c8-4c4f-b43c-5b4ccc08c02c",
   "metadata": {},
   "outputs": [
    {
     "name": "stdout",
     "output_type": "stream",
     "text": [
      "Data loaded into the tables successfully\n"
     ]
    }
   ],
   "source": [
    "# Create a SQLAlchemy engine using the connection\n",
    "engine = create_engine('postgresql+psycopg2://', creator=lambda: connection)\n",
    "\n",
    "# Use the engine to load data into tables\n",
    "try:\n",
    "    \n",
    "    borrower_df.to_sql('Borrower_table', con=engine, if_exists='replace', index=False)\n",
    "    loan_df.to_sql('Loan_table', con=engine, if_exists='replace', index=False)\n",
    "    payment_schedule_df.to_sql('Schedule_Table', con=engine, if_exists='replace', index=False)\n",
    "    repayment_df.to_sql('Repayment_Table', con=engine, if_exists='replace', index=False)\n",
    "    \n",
    "    print(\"Data loaded into the tables successfully\")\n",
    "\n",
    "except (Exception, Error) as e:\n",
    "    print(\"Error while loading data into tables:\", e)"
   ]
  },
  {
   "cell_type": "code",
   "execution_count": 29,
   "id": "201b656f-1819-4142-ab07-5705a7b0ae4e",
   "metadata": {},
   "outputs": [
    {
     "data": {
      "text/html": [
       "<div>\n",
       "<style scoped>\n",
       "    .dataframe tbody tr th:only-of-type {\n",
       "        vertical-align: middle;\n",
       "    }\n",
       "\n",
       "    .dataframe tbody tr th {\n",
       "        vertical-align: top;\n",
       "    }\n",
       "\n",
       "    .dataframe thead th {\n",
       "        text-align: right;\n",
       "    }\n",
       "</style>\n",
       "<table border=\"1\" class=\"dataframe\">\n",
       "  <thead>\n",
       "    <tr style=\"text-align: right;\">\n",
       "      <th></th>\n",
       "      <th>Borrower_Id</th>\n",
       "      <th>State</th>\n",
       "      <th>City</th>\n",
       "      <th>zip code</th>\n",
       "      <th>borrower_credit_score</th>\n",
       "    </tr>\n",
       "  </thead>\n",
       "  <tbody>\n",
       "    <tr>\n",
       "      <th>0</th>\n",
       "      <td>123fd35</td>\n",
       "      <td>dfgc</td>\n",
       "      <td>12olki</td>\n",
       "      <td>19473</td>\n",
       "      <td>4</td>\n",
       "    </tr>\n",
       "    <tr>\n",
       "      <th>1</th>\n",
       "      <td>123fd36</td>\n",
       "      <td>rtgio</td>\n",
       "      <td>89hfg</td>\n",
       "      <td>923475</td>\n",
       "      <td>a</td>\n",
       "    </tr>\n",
       "  </tbody>\n",
       "</table>\n",
       "</div>"
      ],
      "text/plain": [
       "  Borrower_Id  State    City  zip code borrower_credit_score\n",
       "0     123fd35   dfgc  12olki     19473                     4\n",
       "1     123fd36  rtgio   89hfg    923475                     a"
      ]
     },
     "execution_count": 29,
     "metadata": {},
     "output_type": "execute_result"
    }
   ],
   "source": [
    "borrower_df"
   ]
  },
  {
   "cell_type": "code",
   "execution_count": 30,
   "id": "7a2bbb72-015a-4988-9d3e-1d925f3016be",
   "metadata": {},
   "outputs": [
    {
     "data": {
      "text/html": [
       "<div>\n",
       "<style scoped>\n",
       "    .dataframe tbody tr th:only-of-type {\n",
       "        vertical-align: middle;\n",
       "    }\n",
       "\n",
       "    .dataframe tbody tr th {\n",
       "        vertical-align: top;\n",
       "    }\n",
       "\n",
       "    .dataframe thead th {\n",
       "        text-align: right;\n",
       "    }\n",
       "</style>\n",
       "<table border=\"1\" class=\"dataframe\">\n",
       "  <thead>\n",
       "    <tr style=\"text-align: right;\">\n",
       "      <th></th>\n",
       "      <th>Borrower_id</th>\n",
       "      <th>loan_id</th>\n",
       "      <th>Date_of_release</th>\n",
       "      <th>Term</th>\n",
       "      <th>InterestRate</th>\n",
       "      <th>LoanAmount</th>\n",
       "      <th>Downpayment</th>\n",
       "      <th>Payment_frequency</th>\n",
       "      <th>Maturity_date</th>\n",
       "    </tr>\n",
       "  </thead>\n",
       "  <tbody>\n",
       "    <tr>\n",
       "      <th>0</th>\n",
       "      <td>123fd35</td>\n",
       "      <td>32u09wekjbfje</td>\n",
       "      <td>01/27/2021</td>\n",
       "      <td>12</td>\n",
       "      <td>1.05</td>\n",
       "      <td>1209484</td>\n",
       "      <td>124993</td>\n",
       "      <td>1.007903e+05</td>\n",
       "      <td>01/31/2022</td>\n",
       "    </tr>\n",
       "    <tr>\n",
       "      <th>1</th>\n",
       "      <td>123fd36</td>\n",
       "      <td>9190i0-nbfb</td>\n",
       "      <td>02/01/2021</td>\n",
       "      <td>24</td>\n",
       "      <td>1.05</td>\n",
       "      <td>12394031</td>\n",
       "      <td>1000000</td>\n",
       "      <td>5.164180e+05</td>\n",
       "      <td>02/29/2023</td>\n",
       "    </tr>\n",
       "    <tr>\n",
       "      <th>2</th>\n",
       "      <td>123fd35</td>\n",
       "      <td>09u924rbwf</td>\n",
       "      <td>04/16/2021</td>\n",
       "      <td>36</td>\n",
       "      <td>1.05</td>\n",
       "      <td>45784937</td>\n",
       "      <td>1200000</td>\n",
       "      <td>1.271804e+06</td>\n",
       "      <td>04/30/2024</td>\n",
       "    </tr>\n",
       "    <tr>\n",
       "      <th>3</th>\n",
       "      <td>123fd36</td>\n",
       "      <td>3240-9rfwb</td>\n",
       "      <td>03/26/2021</td>\n",
       "      <td>12</td>\n",
       "      <td>1.05</td>\n",
       "      <td>1234890</td>\n",
       "      <td>132000</td>\n",
       "      <td>1.029075e+05</td>\n",
       "      <td>03/31/2022</td>\n",
       "    </tr>\n",
       "  </tbody>\n",
       "</table>\n",
       "</div>"
      ],
      "text/plain": [
       "  Borrower_id        loan_id Date_of_release  Term  InterestRate  LoanAmount  \\\n",
       "0     123fd35  32u09wekjbfje      01/27/2021    12          1.05     1209484   \n",
       "1     123fd36    9190i0-nbfb      02/01/2021    24          1.05    12394031   \n",
       "2     123fd35     09u924rbwf      04/16/2021    36          1.05    45784937   \n",
       "3     123fd36     3240-9rfwb      03/26/2021    12          1.05     1234890   \n",
       "\n",
       "   Downpayment  Payment_frequency Maturity_date  \n",
       "0       124993       1.007903e+05    01/31/2022  \n",
       "1      1000000       5.164180e+05    02/29/2023  \n",
       "2      1200000       1.271804e+06    04/30/2024  \n",
       "3       132000       1.029075e+05    03/31/2022  "
      ]
     },
     "execution_count": 30,
     "metadata": {},
     "output_type": "execute_result"
    }
   ],
   "source": [
    "loan_df"
   ]
  },
  {
   "cell_type": "code",
   "execution_count": 31,
   "id": "522f0140-9f0d-4850-993a-7748b2ffaa5a",
   "metadata": {},
   "outputs": [
    {
     "data": {
      "text/html": [
       "<div>\n",
       "<style scoped>\n",
       "    .dataframe tbody tr th:only-of-type {\n",
       "        vertical-align: middle;\n",
       "    }\n",
       "\n",
       "    .dataframe tbody tr th {\n",
       "        vertical-align: top;\n",
       "    }\n",
       "\n",
       "    .dataframe thead th {\n",
       "        text-align: right;\n",
       "    }\n",
       "</style>\n",
       "<table border=\"1\" class=\"dataframe\">\n",
       "  <thead>\n",
       "    <tr style=\"text-align: right;\">\n",
       "      <th></th>\n",
       "      <th>loan_id</th>\n",
       "      <th>schedule_id</th>\n",
       "      <th>Expected_payment_date</th>\n",
       "      <th>Expected_payment_amount</th>\n",
       "    </tr>\n",
       "  </thead>\n",
       "  <tbody>\n",
       "    <tr>\n",
       "      <th>0</th>\n",
       "      <td>32u09wekjbfje</td>\n",
       "      <td>3434r409km123456</td>\n",
       "      <td>2021-02-27</td>\n",
       "      <td>100790.3333</td>\n",
       "    </tr>\n",
       "    <tr>\n",
       "      <th>1</th>\n",
       "      <td>32u09wekjbfje</td>\n",
       "      <td>3434r409km123457</td>\n",
       "      <td>2021-03-27</td>\n",
       "      <td>100790.3333</td>\n",
       "    </tr>\n",
       "    <tr>\n",
       "      <th>2</th>\n",
       "      <td>32u09wekjbfje</td>\n",
       "      <td>3434r409km123458</td>\n",
       "      <td>2021-04-27</td>\n",
       "      <td>100790.3333</td>\n",
       "    </tr>\n",
       "    <tr>\n",
       "      <th>3</th>\n",
       "      <td>32u09wekjbfje</td>\n",
       "      <td>3434r409km123459</td>\n",
       "      <td>2021-05-27</td>\n",
       "      <td>100790.3333</td>\n",
       "    </tr>\n",
       "    <tr>\n",
       "      <th>4</th>\n",
       "      <td>32u09wekjbfje</td>\n",
       "      <td>3434r409km123460</td>\n",
       "      <td>2021-06-27</td>\n",
       "      <td>100790.3333</td>\n",
       "    </tr>\n",
       "    <tr>\n",
       "      <th>...</th>\n",
       "      <td>...</td>\n",
       "      <td>...</td>\n",
       "      <td>...</td>\n",
       "      <td>...</td>\n",
       "    </tr>\n",
       "    <tr>\n",
       "      <th>79</th>\n",
       "      <td>3240-9rfwb</td>\n",
       "      <td>klnin09u4nj33471</td>\n",
       "      <td>2021-11-26</td>\n",
       "      <td>102907.5000</td>\n",
       "    </tr>\n",
       "    <tr>\n",
       "      <th>80</th>\n",
       "      <td>3240-9rfwb</td>\n",
       "      <td>klnin09u4nj33472</td>\n",
       "      <td>2021-12-26</td>\n",
       "      <td>102907.5000</td>\n",
       "    </tr>\n",
       "    <tr>\n",
       "      <th>81</th>\n",
       "      <td>3240-9rfwb</td>\n",
       "      <td>klnin09u4nj33473</td>\n",
       "      <td>2022-01-26</td>\n",
       "      <td>102907.5000</td>\n",
       "    </tr>\n",
       "    <tr>\n",
       "      <th>82</th>\n",
       "      <td>3240-9rfwb</td>\n",
       "      <td>klnin09u4nj33474</td>\n",
       "      <td>2022-02-26</td>\n",
       "      <td>102907.5000</td>\n",
       "    </tr>\n",
       "    <tr>\n",
       "      <th>83</th>\n",
       "      <td>3240-9rfwb</td>\n",
       "      <td>klnin09u4nj33475</td>\n",
       "      <td>2022-03-26</td>\n",
       "      <td>102907.5000</td>\n",
       "    </tr>\n",
       "  </tbody>\n",
       "</table>\n",
       "<p>84 rows × 4 columns</p>\n",
       "</div>"
      ],
      "text/plain": [
       "          loan_id       schedule_id Expected_payment_date  \\\n",
       "0   32u09wekjbfje  3434r409km123456            2021-02-27   \n",
       "1   32u09wekjbfje  3434r409km123457            2021-03-27   \n",
       "2   32u09wekjbfje  3434r409km123458            2021-04-27   \n",
       "3   32u09wekjbfje  3434r409km123459            2021-05-27   \n",
       "4   32u09wekjbfje  3434r409km123460            2021-06-27   \n",
       "..            ...               ...                   ...   \n",
       "79     3240-9rfwb  klnin09u4nj33471            2021-11-26   \n",
       "80     3240-9rfwb  klnin09u4nj33472            2021-12-26   \n",
       "81     3240-9rfwb  klnin09u4nj33473            2022-01-26   \n",
       "82     3240-9rfwb  klnin09u4nj33474            2022-02-26   \n",
       "83     3240-9rfwb  klnin09u4nj33475            2022-03-26   \n",
       "\n",
       "    Expected_payment_amount  \n",
       "0               100790.3333  \n",
       "1               100790.3333  \n",
       "2               100790.3333  \n",
       "3               100790.3333  \n",
       "4               100790.3333  \n",
       "..                      ...  \n",
       "79              102907.5000  \n",
       "80              102907.5000  \n",
       "81              102907.5000  \n",
       "82              102907.5000  \n",
       "83              102907.5000  \n",
       "\n",
       "[84 rows x 4 columns]"
      ]
     },
     "execution_count": 31,
     "metadata": {},
     "output_type": "execute_result"
    }
   ],
   "source": [
    "payment_schedule_df"
   ]
  },
  {
   "cell_type": "code",
   "execution_count": 32,
   "id": "0d9ff7a5-6baa-4bc0-ad3a-9f78139000f3",
   "metadata": {},
   "outputs": [
    {
     "data": {
      "text/html": [
       "<div>\n",
       "<style scoped>\n",
       "    .dataframe tbody tr th:only-of-type {\n",
       "        vertical-align: middle;\n",
       "    }\n",
       "\n",
       "    .dataframe tbody tr th {\n",
       "        vertical-align: top;\n",
       "    }\n",
       "\n",
       "    .dataframe thead th {\n",
       "        text-align: right;\n",
       "    }\n",
       "</style>\n",
       "<table border=\"1\" class=\"dataframe\">\n",
       "  <thead>\n",
       "    <tr style=\"text-align: right;\">\n",
       "      <th></th>\n",
       "      <th>loan_id(fk)</th>\n",
       "      <th>payment_id(pk)</th>\n",
       "      <th>Amount_paid</th>\n",
       "      <th>Date_paid</th>\n",
       "      <th>PAR_Days</th>\n",
       "      <th>amount_at_risk</th>\n",
       "    </tr>\n",
       "  </thead>\n",
       "  <tbody>\n",
       "    <tr>\n",
       "      <th>0</th>\n",
       "      <td>32u09wekjbfje</td>\n",
       "      <td>3434r409kmPAID123456</td>\n",
       "      <td>NaN</td>\n",
       "      <td>1970-01-01 00:00:00.000100790</td>\n",
       "      <td>-18685</td>\n",
       "      <td>NaN</td>\n",
       "    </tr>\n",
       "    <tr>\n",
       "      <th>1</th>\n",
       "      <td>32u09wekjbfje</td>\n",
       "      <td>3434r409kmPAID123457</td>\n",
       "      <td>NaN</td>\n",
       "      <td>1970-01-01 00:00:00.000100790</td>\n",
       "      <td>-18713</td>\n",
       "      <td>NaN</td>\n",
       "    </tr>\n",
       "    <tr>\n",
       "      <th>2</th>\n",
       "      <td>32u09wekjbfje</td>\n",
       "      <td>3434r409kmPAID123458</td>\n",
       "      <td>NaN</td>\n",
       "      <td>1970-01-01 00:00:00.000100790</td>\n",
       "      <td>-18744</td>\n",
       "      <td>NaN</td>\n",
       "    </tr>\n",
       "    <tr>\n",
       "      <th>3</th>\n",
       "      <td>32u09wekjbfje</td>\n",
       "      <td>3434r409kmPAID123459</td>\n",
       "      <td>NaN</td>\n",
       "      <td>1970-01-01 00:00:00.000100790</td>\n",
       "      <td>-18774</td>\n",
       "      <td>NaN</td>\n",
       "    </tr>\n",
       "    <tr>\n",
       "      <th>4</th>\n",
       "      <td>32u09wekjbfje</td>\n",
       "      <td>3434r409kmPAID123460</td>\n",
       "      <td>NaN</td>\n",
       "      <td>1970-01-01 00:00:00.000100790</td>\n",
       "      <td>-18805</td>\n",
       "      <td>NaN</td>\n",
       "    </tr>\n",
       "    <tr>\n",
       "      <th>...</th>\n",
       "      <td>...</td>\n",
       "      <td>...</td>\n",
       "      <td>...</td>\n",
       "      <td>...</td>\n",
       "      <td>...</td>\n",
       "      <td>...</td>\n",
       "    </tr>\n",
       "    <tr>\n",
       "      <th>79</th>\n",
       "      <td>3240-9rfwb</td>\n",
       "      <td>klnin09u4njPAID33471</td>\n",
       "      <td>NaN</td>\n",
       "      <td>1970-01-01 00:00:00.000102907</td>\n",
       "      <td>-18957</td>\n",
       "      <td>NaN</td>\n",
       "    </tr>\n",
       "    <tr>\n",
       "      <th>80</th>\n",
       "      <td>3240-9rfwb</td>\n",
       "      <td>klnin09u4njPAID33472</td>\n",
       "      <td>NaN</td>\n",
       "      <td>1970-01-01 00:00:00.000102907</td>\n",
       "      <td>-18987</td>\n",
       "      <td>NaN</td>\n",
       "    </tr>\n",
       "    <tr>\n",
       "      <th>81</th>\n",
       "      <td>3240-9rfwb</td>\n",
       "      <td>klnin09u4njPAID33473</td>\n",
       "      <td>NaN</td>\n",
       "      <td>1970-01-01 00:00:00.000102907</td>\n",
       "      <td>-19018</td>\n",
       "      <td>NaN</td>\n",
       "    </tr>\n",
       "    <tr>\n",
       "      <th>82</th>\n",
       "      <td>3240-9rfwb</td>\n",
       "      <td>klnin09u4njPAID33474</td>\n",
       "      <td>NaN</td>\n",
       "      <td>1970-01-01 00:00:00.000102907</td>\n",
       "      <td>-19049</td>\n",
       "      <td>NaN</td>\n",
       "    </tr>\n",
       "    <tr>\n",
       "      <th>83</th>\n",
       "      <td>3240-9rfwb</td>\n",
       "      <td>klnin09u4njPAID33475</td>\n",
       "      <td>NaN</td>\n",
       "      <td>1970-01-01 00:00:00.000102907</td>\n",
       "      <td>-19077</td>\n",
       "      <td>NaN</td>\n",
       "    </tr>\n",
       "  </tbody>\n",
       "</table>\n",
       "<p>84 rows × 6 columns</p>\n",
       "</div>"
      ],
      "text/plain": [
       "      loan_id(fk)        payment_id(pk)  Amount_paid  \\\n",
       "0   32u09wekjbfje  3434r409kmPAID123456          NaN   \n",
       "1   32u09wekjbfje  3434r409kmPAID123457          NaN   \n",
       "2   32u09wekjbfje  3434r409kmPAID123458          NaN   \n",
       "3   32u09wekjbfje  3434r409kmPAID123459          NaN   \n",
       "4   32u09wekjbfje  3434r409kmPAID123460          NaN   \n",
       "..            ...                   ...          ...   \n",
       "79     3240-9rfwb  klnin09u4njPAID33471          NaN   \n",
       "80     3240-9rfwb  klnin09u4njPAID33472          NaN   \n",
       "81     3240-9rfwb  klnin09u4njPAID33473          NaN   \n",
       "82     3240-9rfwb  klnin09u4njPAID33474          NaN   \n",
       "83     3240-9rfwb  klnin09u4njPAID33475          NaN   \n",
       "\n",
       "                       Date_paid  PAR_Days  amount_at_risk  \n",
       "0  1970-01-01 00:00:00.000100790    -18685             NaN  \n",
       "1  1970-01-01 00:00:00.000100790    -18713             NaN  \n",
       "2  1970-01-01 00:00:00.000100790    -18744             NaN  \n",
       "3  1970-01-01 00:00:00.000100790    -18774             NaN  \n",
       "4  1970-01-01 00:00:00.000100790    -18805             NaN  \n",
       "..                           ...       ...             ...  \n",
       "79 1970-01-01 00:00:00.000102907    -18957             NaN  \n",
       "80 1970-01-01 00:00:00.000102907    -18987             NaN  \n",
       "81 1970-01-01 00:00:00.000102907    -19018             NaN  \n",
       "82 1970-01-01 00:00:00.000102907    -19049             NaN  \n",
       "83 1970-01-01 00:00:00.000102907    -19077             NaN  \n",
       "\n",
       "[84 rows x 6 columns]"
      ]
     },
     "execution_count": 32,
     "metadata": {},
     "output_type": "execute_result"
    }
   ],
   "source": [
    "repayment_df"
   ]
  },
  {
   "cell_type": "code",
   "execution_count": 60,
   "id": "400470b1-f9e1-4964-b4ca-384b6d81579e",
   "metadata": {},
   "outputs": [
    {
     "name": "stdout",
     "output_type": "stream",
     "text": [
      "Successfully connected to the PostgreSQL database\n"
     ]
    }
   ],
   "source": [
    "try:\n",
    "    # Replace the connection details with your own\n",
    "    connection = psycopg2.connect(\n",
    "        host=\"localhost\",\n",
    "        database=\"autochek_db\",\n",
    "        user=\"auto\",\n",
    "        password=\"auto\"\n",
    "    )\n",
    "    cursor = connection.cursor()\n",
    "    print(\"Successfully connected to the PostgreSQL database\")\n",
    "\n",
    "except (Exception, Error) as e:\n",
    "    print(\"Error while connecting to the PostgreSQL database:\", e)\n"
   ]
  },
  {
   "cell_type": "code",
   "execution_count": 64,
   "id": "ab28abc6-41a4-42a1-b51c-4ef4499b0c3c",
   "metadata": {},
   "outputs": [
    {
     "name": "stdout",
     "output_type": "stream",
     "text": [
      "Error while executing the SQL query: current transaction is aborted, commands ignored until end of transaction block\n",
      "\n"
     ]
    }
   ],
   "source": [
    "# Generate the SQL query using the desired columns\n",
    "query = '''\n",
    "SELECT borrower.Borrower_id, borrower.State, borrower.City, borrower.zip_code,\n",
    "       loan.Loan_id, loan.Term, loan.InterestRate, loan.LoanAmount, loan.Downpayment,\n",
    "       payment_schedule.Expected_payment_date, payment_schedule.Expected_payment_amount,\n",
    "       loan_payment.PAR_Days, loan_payment.amount_at_risk\n",
    "FROM Borrower_table AS borrower\n",
    "JOIN Loan_table AS loan ON borrower.Borrower_id = loan.Borrower_id\n",
    "JOIN Schedule_Table AS payment_schedule ON loan.Loan_id = payment_schedule.loan_id\n",
    "JOIN Repayment_Table AS loan_payment ON loan.Loan_id = loan_payment.loan_id\n",
    "ORDER BY borrower.Borrower_id, loan.Loan_id, payment_schedule.Expected_payment_date\n",
    "'''\n",
    "\n",
    "try:\n",
    "    # Execute the SQL query\n",
    "    cursor.execute(query)\n",
    "    result = cursor.fetchall()\n",
    "\n",
    "    # Print the query results\n",
    "    for row in result:\n",
    "        print(row)\n",
    "\n",
    "except (Exception, Error) as e:\n",
    "    print(\"Error while executing the SQL query:\", e)"
   ]
  },
  {
   "cell_type": "code",
   "execution_count": 41,
   "id": "070b1346-45ec-4892-8e38-72e07ede4ac5",
   "metadata": {},
   "outputs": [
    {
     "ename": "ModuleNotFoundError",
     "evalue": "No module named 'parse'",
     "output_type": "error",
     "traceback": [
      "\u001b[0;31m---------------------------------------------------------------------------\u001b[0m",
      "\u001b[0;31mModuleNotFoundError\u001b[0m                       Traceback (most recent call last)",
      "\u001b[0;32m/tmp/ipykernel_741/2573835090.py\u001b[0m in \u001b[0;36m<module>\u001b[0;34m\u001b[0m\n\u001b[0;32m----> 1\u001b[0;31m \u001b[0;32mfrom\u001b[0m \u001b[0mparse\u001b[0m \u001b[0;32mimport\u001b[0m \u001b[0mparse\u001b[0m\u001b[0;34m\u001b[0m\u001b[0;34m\u001b[0m\u001b[0m\n\u001b[0m",
      "\u001b[0;31mModuleNotFoundError\u001b[0m: No module named 'parse'"
     ]
    }
   ],
   "source": [
    "from parse import parse"
   ]
  },
  {
   "cell_type": "code",
   "execution_count": 42,
   "id": "cb23f7e7-16c3-4ca6-a816-b7330c3d5bf8",
   "metadata": {},
   "outputs": [
    {
     "name": "stdout",
     "output_type": "stream",
     "text": [
      "Defaulting to user installation because normal site-packages is not writeable\n",
      "Collecting parse\n",
      "  Downloading parse-1.19.0-py2.py3-none-any.whl (18 kB)\n",
      "Installing collected packages: parse\n",
      "Successfully installed parse-1.19.0\n",
      "Note: you may need to restart the kernel to use updated packages.\n"
     ]
    }
   ],
   "source": [
    "pip install parse"
   ]
  },
  {
   "cell_type": "code",
   "execution_count": 43,
   "id": "8fae598b-180c-4d72-9e50-8501763ee6eb",
   "metadata": {},
   "outputs": [],
   "source": [
    "from parse import parse"
   ]
  },
  {
   "cell_type": "code",
   "execution_count": 46,
   "id": "734aee5e-c715-42bd-8ac1-88f77b26e664",
   "metadata": {},
   "outputs": [
    {
     "ename": "AttributeError",
     "evalue": "'function' object has no attribute 'change_column_dtype'",
     "output_type": "error",
     "traceback": [
      "\u001b[0;31m---------------------------------------------------------------------------\u001b[0m",
      "\u001b[0;31mAttributeError\u001b[0m                            Traceback (most recent call last)",
      "\u001b[0;32m/tmp/ipykernel_741/955208521.py\u001b[0m in \u001b[0;36m<module>\u001b[0;34m\u001b[0m\n\u001b[0;32m----> 1\u001b[0;31m \u001b[0mborrower_df\u001b[0m \u001b[0;34m=\u001b[0m \u001b[0mparse\u001b[0m\u001b[0;34m.\u001b[0m\u001b[0mchange_column_dtype\u001b[0m\u001b[0;34m(\u001b[0m\u001b[0mborrower_df\u001b[0m\u001b[0;34m)\u001b[0m\u001b[0;34m\u001b[0m\u001b[0;34m\u001b[0m\u001b[0m\n\u001b[0m\u001b[1;32m      2\u001b[0m \u001b[0mloan_df\u001b[0m \u001b[0;34m=\u001b[0m \u001b[0mparse\u001b[0m\u001b[0;34m.\u001b[0m\u001b[0mchange_column_dtype\u001b[0m\u001b[0;34m(\u001b[0m\u001b[0mloan_df\u001b[0m\u001b[0;34m)\u001b[0m\u001b[0;34m\u001b[0m\u001b[0;34m\u001b[0m\u001b[0m\n\u001b[1;32m      3\u001b[0m \u001b[0mschedule_df\u001b[0m \u001b[0;34m=\u001b[0m \u001b[0mparse\u001b[0m\u001b[0;34m.\u001b[0m\u001b[0mchange_column_dtype\u001b[0m\u001b[0;34m(\u001b[0m\u001b[0mschedule_df\u001b[0m\u001b[0;34m)\u001b[0m\u001b[0;34m\u001b[0m\u001b[0;34m\u001b[0m\u001b[0m\n\u001b[1;32m      4\u001b[0m \u001b[0mrepayment__df\u001b[0m \u001b[0;34m=\u001b[0m \u001b[0mparse\u001b[0m\u001b[0;34m.\u001b[0m\u001b[0mchange_column_dtype\u001b[0m\u001b[0;34m(\u001b[0m\u001b[0mrepayment_df\u001b[0m\u001b[0;34m)\u001b[0m\u001b[0;34m\u001b[0m\u001b[0;34m\u001b[0m\u001b[0m\n",
      "\u001b[0;31mAttributeError\u001b[0m: 'function' object has no attribute 'change_column_dtype'"
     ]
    }
   ],
   "source": [
    "borrower_df = parse.change_column_dtype(borrower_df)\n",
    "loan_df = parse.change_column_dtype(loan_df)\n",
    "schedule_df = parse.change_column_dtype(schedule_df)\n",
    "repayment__df = parse.change_column_dtype(repayment_df)"
   ]
  },
  {
   "cell_type": "code",
   "execution_count": 45,
   "id": "f0c7ab3c-dd05-4012-8192-2d3911cf4830",
   "metadata": {},
   "outputs": [],
   "source": [
    "def change_column_dtype(df, column_dtype_mapping):\n",
    "    for column, dtype in column_dtype_mapping.items():\n",
    "        df[column] = df[column].astype(dtype)\n",
    "    return df"
   ]
  },
  {
   "cell_type": "code",
   "execution_count": 51,
   "id": "139efd8d-652a-411e-90ce-ae005c9485b8",
   "metadata": {},
   "outputs": [
    {
     "ename": "TypeError",
     "evalue": "dtype '<class 'datetime.datetime'>' not understood",
     "output_type": "error",
     "traceback": [
      "\u001b[0;31m---------------------------------------------------------------------------\u001b[0m",
      "\u001b[0;31mTypeError\u001b[0m                                 Traceback (most recent call last)",
      "\u001b[0;32m/tmp/ipykernel_741/2744879269.py\u001b[0m in \u001b[0;36m<module>\u001b[0;34m\u001b[0m\n\u001b[1;32m      9\u001b[0m \u001b[0;34m\u001b[0m\u001b[0m\n\u001b[1;32m     10\u001b[0m \u001b[0;31m# Apply the data type changes to the DataFrame\u001b[0m\u001b[0;34m\u001b[0m\u001b[0;34m\u001b[0m\u001b[0m\n\u001b[0;32m---> 11\u001b[0;31m \u001b[0mpayment_schedule_df\u001b[0m \u001b[0;34m=\u001b[0m \u001b[0mchange_column_dtype\u001b[0m\u001b[0;34m(\u001b[0m\u001b[0mpayment_schedule_df\u001b[0m\u001b[0;34m,\u001b[0m \u001b[0mcolumn_dtype_mapping\u001b[0m\u001b[0;34m)\u001b[0m\u001b[0;34m\u001b[0m\u001b[0;34m\u001b[0m\u001b[0m\n\u001b[0m",
      "\u001b[0;32m/tmp/ipykernel_741/140206646.py\u001b[0m in \u001b[0;36mchange_column_dtype\u001b[0;34m(df, column_dtype_mapping)\u001b[0m\n\u001b[1;32m      1\u001b[0m \u001b[0;32mdef\u001b[0m \u001b[0mchange_column_dtype\u001b[0m\u001b[0;34m(\u001b[0m\u001b[0mdf\u001b[0m\u001b[0;34m,\u001b[0m \u001b[0mcolumn_dtype_mapping\u001b[0m\u001b[0;34m)\u001b[0m\u001b[0;34m:\u001b[0m\u001b[0;34m\u001b[0m\u001b[0;34m\u001b[0m\u001b[0m\n\u001b[1;32m      2\u001b[0m     \u001b[0;32mfor\u001b[0m \u001b[0mcolumn\u001b[0m\u001b[0;34m,\u001b[0m \u001b[0mdtype\u001b[0m \u001b[0;32min\u001b[0m \u001b[0mcolumn_dtype_mapping\u001b[0m\u001b[0;34m.\u001b[0m\u001b[0mitems\u001b[0m\u001b[0;34m(\u001b[0m\u001b[0;34m)\u001b[0m\u001b[0;34m:\u001b[0m\u001b[0;34m\u001b[0m\u001b[0;34m\u001b[0m\u001b[0m\n\u001b[0;32m----> 3\u001b[0;31m         \u001b[0mdf\u001b[0m\u001b[0;34m[\u001b[0m\u001b[0mcolumn\u001b[0m\u001b[0;34m]\u001b[0m \u001b[0;34m=\u001b[0m \u001b[0mdf\u001b[0m\u001b[0;34m[\u001b[0m\u001b[0mcolumn\u001b[0m\u001b[0;34m]\u001b[0m\u001b[0;34m.\u001b[0m\u001b[0mastype\u001b[0m\u001b[0;34m(\u001b[0m\u001b[0mdtype\u001b[0m\u001b[0;34m)\u001b[0m\u001b[0;34m\u001b[0m\u001b[0;34m\u001b[0m\u001b[0m\n\u001b[0m\u001b[1;32m      4\u001b[0m     \u001b[0;32mreturn\u001b[0m \u001b[0mdf\u001b[0m\u001b[0;34m\u001b[0m\u001b[0;34m\u001b[0m\u001b[0m\n",
      "\u001b[0;32m~/.local/lib/python3.10/site-packages/pandas/core/generic.py\u001b[0m in \u001b[0;36mastype\u001b[0;34m(self, dtype, copy, errors)\u001b[0m\n\u001b[1;32m   6238\u001b[0m         \u001b[0;32melse\u001b[0m\u001b[0;34m:\u001b[0m\u001b[0;34m\u001b[0m\u001b[0;34m\u001b[0m\u001b[0m\n\u001b[1;32m   6239\u001b[0m             \u001b[0;31m# else, only a single dtype is given\u001b[0m\u001b[0;34m\u001b[0m\u001b[0;34m\u001b[0m\u001b[0m\n\u001b[0;32m-> 6240\u001b[0;31m             \u001b[0mnew_data\u001b[0m \u001b[0;34m=\u001b[0m \u001b[0mself\u001b[0m\u001b[0;34m.\u001b[0m\u001b[0m_mgr\u001b[0m\u001b[0;34m.\u001b[0m\u001b[0mastype\u001b[0m\u001b[0;34m(\u001b[0m\u001b[0mdtype\u001b[0m\u001b[0;34m=\u001b[0m\u001b[0mdtype\u001b[0m\u001b[0;34m,\u001b[0m \u001b[0mcopy\u001b[0m\u001b[0;34m=\u001b[0m\u001b[0mcopy\u001b[0m\u001b[0;34m,\u001b[0m \u001b[0merrors\u001b[0m\u001b[0;34m=\u001b[0m\u001b[0merrors\u001b[0m\u001b[0;34m)\u001b[0m\u001b[0;34m\u001b[0m\u001b[0;34m\u001b[0m\u001b[0m\n\u001b[0m\u001b[1;32m   6241\u001b[0m             \u001b[0;32mreturn\u001b[0m \u001b[0mself\u001b[0m\u001b[0;34m.\u001b[0m\u001b[0m_constructor\u001b[0m\u001b[0;34m(\u001b[0m\u001b[0mnew_data\u001b[0m\u001b[0;34m)\u001b[0m\u001b[0;34m.\u001b[0m\u001b[0m__finalize__\u001b[0m\u001b[0;34m(\u001b[0m\u001b[0mself\u001b[0m\u001b[0;34m,\u001b[0m \u001b[0mmethod\u001b[0m\u001b[0;34m=\u001b[0m\u001b[0;34m\"astype\"\u001b[0m\u001b[0;34m)\u001b[0m\u001b[0;34m\u001b[0m\u001b[0;34m\u001b[0m\u001b[0m\n\u001b[1;32m   6242\u001b[0m \u001b[0;34m\u001b[0m\u001b[0m\n",
      "\u001b[0;32m~/.local/lib/python3.10/site-packages/pandas/core/internals/managers.py\u001b[0m in \u001b[0;36mastype\u001b[0;34m(self, dtype, copy, errors)\u001b[0m\n\u001b[1;32m    446\u001b[0m \u001b[0;34m\u001b[0m\u001b[0m\n\u001b[1;32m    447\u001b[0m     \u001b[0;32mdef\u001b[0m \u001b[0mastype\u001b[0m\u001b[0;34m(\u001b[0m\u001b[0mself\u001b[0m\u001b[0;34m:\u001b[0m \u001b[0mT\u001b[0m\u001b[0;34m,\u001b[0m \u001b[0mdtype\u001b[0m\u001b[0;34m,\u001b[0m \u001b[0mcopy\u001b[0m\u001b[0;34m:\u001b[0m \u001b[0mbool\u001b[0m \u001b[0;34m=\u001b[0m \u001b[0;32mFalse\u001b[0m\u001b[0;34m,\u001b[0m \u001b[0merrors\u001b[0m\u001b[0;34m:\u001b[0m \u001b[0mstr\u001b[0m \u001b[0;34m=\u001b[0m \u001b[0;34m\"raise\"\u001b[0m\u001b[0;34m)\u001b[0m \u001b[0;34m->\u001b[0m \u001b[0mT\u001b[0m\u001b[0;34m:\u001b[0m\u001b[0;34m\u001b[0m\u001b[0;34m\u001b[0m\u001b[0m\n\u001b[0;32m--> 448\u001b[0;31m         \u001b[0;32mreturn\u001b[0m \u001b[0mself\u001b[0m\u001b[0;34m.\u001b[0m\u001b[0mapply\u001b[0m\u001b[0;34m(\u001b[0m\u001b[0;34m\"astype\"\u001b[0m\u001b[0;34m,\u001b[0m \u001b[0mdtype\u001b[0m\u001b[0;34m=\u001b[0m\u001b[0mdtype\u001b[0m\u001b[0;34m,\u001b[0m \u001b[0mcopy\u001b[0m\u001b[0;34m=\u001b[0m\u001b[0mcopy\u001b[0m\u001b[0;34m,\u001b[0m \u001b[0merrors\u001b[0m\u001b[0;34m=\u001b[0m\u001b[0merrors\u001b[0m\u001b[0;34m)\u001b[0m\u001b[0;34m\u001b[0m\u001b[0;34m\u001b[0m\u001b[0m\n\u001b[0m\u001b[1;32m    449\u001b[0m \u001b[0;34m\u001b[0m\u001b[0m\n\u001b[1;32m    450\u001b[0m     def convert(\n",
      "\u001b[0;32m~/.local/lib/python3.10/site-packages/pandas/core/internals/managers.py\u001b[0m in \u001b[0;36mapply\u001b[0;34m(self, f, align_keys, ignore_failures, **kwargs)\u001b[0m\n\u001b[1;32m    350\u001b[0m                     \u001b[0mapplied\u001b[0m \u001b[0;34m=\u001b[0m \u001b[0mb\u001b[0m\u001b[0;34m.\u001b[0m\u001b[0mapply\u001b[0m\u001b[0;34m(\u001b[0m\u001b[0mf\u001b[0m\u001b[0;34m,\u001b[0m \u001b[0;34m**\u001b[0m\u001b[0mkwargs\u001b[0m\u001b[0;34m)\u001b[0m\u001b[0;34m\u001b[0m\u001b[0;34m\u001b[0m\u001b[0m\n\u001b[1;32m    351\u001b[0m                 \u001b[0;32melse\u001b[0m\u001b[0;34m:\u001b[0m\u001b[0;34m\u001b[0m\u001b[0;34m\u001b[0m\u001b[0m\n\u001b[0;32m--> 352\u001b[0;31m                     \u001b[0mapplied\u001b[0m \u001b[0;34m=\u001b[0m \u001b[0mgetattr\u001b[0m\u001b[0;34m(\u001b[0m\u001b[0mb\u001b[0m\u001b[0;34m,\u001b[0m \u001b[0mf\u001b[0m\u001b[0;34m)\u001b[0m\u001b[0;34m(\u001b[0m\u001b[0;34m**\u001b[0m\u001b[0mkwargs\u001b[0m\u001b[0;34m)\u001b[0m\u001b[0;34m\u001b[0m\u001b[0;34m\u001b[0m\u001b[0m\n\u001b[0m\u001b[1;32m    353\u001b[0m             \u001b[0;32mexcept\u001b[0m \u001b[0;34m(\u001b[0m\u001b[0mTypeError\u001b[0m\u001b[0;34m,\u001b[0m \u001b[0mNotImplementedError\u001b[0m\u001b[0;34m)\u001b[0m\u001b[0;34m:\u001b[0m\u001b[0;34m\u001b[0m\u001b[0;34m\u001b[0m\u001b[0m\n\u001b[1;32m    354\u001b[0m                 \u001b[0;32mif\u001b[0m \u001b[0;32mnot\u001b[0m \u001b[0mignore_failures\u001b[0m\u001b[0;34m:\u001b[0m\u001b[0;34m\u001b[0m\u001b[0;34m\u001b[0m\u001b[0m\n",
      "\u001b[0;32m~/.local/lib/python3.10/site-packages/pandas/core/internals/blocks.py\u001b[0m in \u001b[0;36mastype\u001b[0;34m(self, dtype, copy, errors)\u001b[0m\n\u001b[1;32m    524\u001b[0m         \u001b[0mvalues\u001b[0m \u001b[0;34m=\u001b[0m \u001b[0mself\u001b[0m\u001b[0;34m.\u001b[0m\u001b[0mvalues\u001b[0m\u001b[0;34m\u001b[0m\u001b[0;34m\u001b[0m\u001b[0m\n\u001b[1;32m    525\u001b[0m \u001b[0;34m\u001b[0m\u001b[0m\n\u001b[0;32m--> 526\u001b[0;31m         \u001b[0mnew_values\u001b[0m \u001b[0;34m=\u001b[0m \u001b[0mastype_array_safe\u001b[0m\u001b[0;34m(\u001b[0m\u001b[0mvalues\u001b[0m\u001b[0;34m,\u001b[0m \u001b[0mdtype\u001b[0m\u001b[0;34m,\u001b[0m \u001b[0mcopy\u001b[0m\u001b[0;34m=\u001b[0m\u001b[0mcopy\u001b[0m\u001b[0;34m,\u001b[0m \u001b[0merrors\u001b[0m\u001b[0;34m=\u001b[0m\u001b[0merrors\u001b[0m\u001b[0;34m)\u001b[0m\u001b[0;34m\u001b[0m\u001b[0;34m\u001b[0m\u001b[0m\n\u001b[0m\u001b[1;32m    527\u001b[0m \u001b[0;34m\u001b[0m\u001b[0m\n\u001b[1;32m    528\u001b[0m         \u001b[0mnew_values\u001b[0m \u001b[0;34m=\u001b[0m \u001b[0mmaybe_coerce_values\u001b[0m\u001b[0;34m(\u001b[0m\u001b[0mnew_values\u001b[0m\u001b[0;34m)\u001b[0m\u001b[0;34m\u001b[0m\u001b[0;34m\u001b[0m\u001b[0m\n",
      "\u001b[0;32m~/.local/lib/python3.10/site-packages/pandas/core/dtypes/astype.py\u001b[0m in \u001b[0;36mastype_array_safe\u001b[0;34m(values, dtype, copy, errors)\u001b[0m\n\u001b[1;32m    277\u001b[0m         \u001b[0;32mraise\u001b[0m \u001b[0mTypeError\u001b[0m\u001b[0;34m(\u001b[0m\u001b[0mmsg\u001b[0m\u001b[0;34m)\u001b[0m\u001b[0;34m\u001b[0m\u001b[0;34m\u001b[0m\u001b[0m\n\u001b[1;32m    278\u001b[0m \u001b[0;34m\u001b[0m\u001b[0m\n\u001b[0;32m--> 279\u001b[0;31m     \u001b[0mdtype\u001b[0m \u001b[0;34m=\u001b[0m \u001b[0mpandas_dtype\u001b[0m\u001b[0;34m(\u001b[0m\u001b[0mdtype\u001b[0m\u001b[0;34m)\u001b[0m\u001b[0;34m\u001b[0m\u001b[0;34m\u001b[0m\u001b[0m\n\u001b[0m\u001b[1;32m    280\u001b[0m     \u001b[0;32mif\u001b[0m \u001b[0misinstance\u001b[0m\u001b[0;34m(\u001b[0m\u001b[0mdtype\u001b[0m\u001b[0;34m,\u001b[0m \u001b[0mPandasDtype\u001b[0m\u001b[0;34m)\u001b[0m\u001b[0;34m:\u001b[0m\u001b[0;34m\u001b[0m\u001b[0;34m\u001b[0m\u001b[0m\n\u001b[1;32m    281\u001b[0m         \u001b[0;31m# Ensure we don't end up with a PandasArray\u001b[0m\u001b[0;34m\u001b[0m\u001b[0;34m\u001b[0m\u001b[0m\n",
      "\u001b[0;32m~/.local/lib/python3.10/site-packages/pandas/core/dtypes/common.py\u001b[0m in \u001b[0;36mpandas_dtype\u001b[0;34m(dtype)\u001b[0m\n\u001b[1;32m   1794\u001b[0m         \u001b[0;32mreturn\u001b[0m \u001b[0mnpdtype\u001b[0m\u001b[0;34m\u001b[0m\u001b[0;34m\u001b[0m\u001b[0m\n\u001b[1;32m   1795\u001b[0m     \u001b[0;32melif\u001b[0m \u001b[0mnpdtype\u001b[0m\u001b[0;34m.\u001b[0m\u001b[0mkind\u001b[0m \u001b[0;34m==\u001b[0m \u001b[0;34m\"O\"\u001b[0m\u001b[0;34m:\u001b[0m\u001b[0;34m\u001b[0m\u001b[0;34m\u001b[0m\u001b[0m\n\u001b[0;32m-> 1796\u001b[0;31m         \u001b[0;32mraise\u001b[0m \u001b[0mTypeError\u001b[0m\u001b[0;34m(\u001b[0m\u001b[0;34mf\"dtype '{dtype}' not understood\"\u001b[0m\u001b[0;34m)\u001b[0m\u001b[0;34m\u001b[0m\u001b[0;34m\u001b[0m\u001b[0m\n\u001b[0m\u001b[1;32m   1797\u001b[0m \u001b[0;34m\u001b[0m\u001b[0m\n\u001b[1;32m   1798\u001b[0m     \u001b[0;32mreturn\u001b[0m \u001b[0mnpdtype\u001b[0m\u001b[0;34m\u001b[0m\u001b[0;34m\u001b[0m\u001b[0m\n",
      "\u001b[0;31mTypeError\u001b[0m: dtype '<class 'datetime.datetime'>' not understood"
     ]
    }
   ],
   "source": [
    "# Define the desired column data types\n",
    "import datetime\n",
    "column_dtype_mapping = {\n",
    "    'loan_id': str,\n",
    "    'schedule_id': str,\n",
    "    'Expected_payment_date':datetime.datetime ,\n",
    "    'Expected_payment_amount': float,\n",
    "}\n",
    "\n",
    "# Apply the data type changes to the DataFrame\n",
    "payment_schedule_df = change_column_dtype(payment_schedule_df, column_dtype_mapping)"
   ]
  },
  {
   "cell_type": "code",
   "execution_count": 53,
   "id": "ebc1c7be-751e-45d9-85b8-0b49f4ef0a6e",
   "metadata": {},
   "outputs": [],
   "source": [
    "payment_schedule_df['Expected_payment_date'] = pd.to_datetime(payment_schedule_df['Expected_payment_date'], errors='coerce')"
   ]
  },
  {
   "cell_type": "code",
   "execution_count": 54,
   "id": "f6502906-96ea-4abe-99ec-3a19212a184d",
   "metadata": {},
   "outputs": [],
   "source": [
    "repayment_df['Amount_paid'] = pd.to_datetime(repayment_df['Amount_paid'], errors='coerce')\n"
   ]
  },
  {
   "cell_type": "code",
   "execution_count": 55,
   "id": "b58983f3-a187-40a7-b9c2-b7357f49993c",
   "metadata": {},
   "outputs": [],
   "source": [
    "loan_df['Date_of_release'] = pd.to_datetime(loan_df['Date_of_release'], errors='coerce')\n",
    "loan_df['Maturity_date'] = pd.to_datetime(loan_df['Maturity_date'], errors='coerce')"
   ]
  },
  {
   "cell_type": "code",
   "execution_count": 56,
   "id": "10c5d5d2-ca37-47d7-86c1-72785a817aff",
   "metadata": {},
   "outputs": [
    {
     "data": {
      "text/html": [
       "<div>\n",
       "<style scoped>\n",
       "    .dataframe tbody tr th:only-of-type {\n",
       "        vertical-align: middle;\n",
       "    }\n",
       "\n",
       "    .dataframe tbody tr th {\n",
       "        vertical-align: top;\n",
       "    }\n",
       "\n",
       "    .dataframe thead th {\n",
       "        text-align: right;\n",
       "    }\n",
       "</style>\n",
       "<table border=\"1\" class=\"dataframe\">\n",
       "  <thead>\n",
       "    <tr style=\"text-align: right;\">\n",
       "      <th></th>\n",
       "      <th>loan_id</th>\n",
       "      <th>schedule_id</th>\n",
       "      <th>Expected_payment_date</th>\n",
       "      <th>Expected_payment_amount</th>\n",
       "    </tr>\n",
       "  </thead>\n",
       "  <tbody>\n",
       "    <tr>\n",
       "      <th>0</th>\n",
       "      <td>32u09wekjbfje</td>\n",
       "      <td>3434r409km123456</td>\n",
       "      <td>2021-02-27</td>\n",
       "      <td>100790.3333</td>\n",
       "    </tr>\n",
       "    <tr>\n",
       "      <th>1</th>\n",
       "      <td>32u09wekjbfje</td>\n",
       "      <td>3434r409km123457</td>\n",
       "      <td>2021-03-27</td>\n",
       "      <td>100790.3333</td>\n",
       "    </tr>\n",
       "    <tr>\n",
       "      <th>2</th>\n",
       "      <td>32u09wekjbfje</td>\n",
       "      <td>3434r409km123458</td>\n",
       "      <td>2021-04-27</td>\n",
       "      <td>100790.3333</td>\n",
       "    </tr>\n",
       "    <tr>\n",
       "      <th>3</th>\n",
       "      <td>32u09wekjbfje</td>\n",
       "      <td>3434r409km123459</td>\n",
       "      <td>2021-05-27</td>\n",
       "      <td>100790.3333</td>\n",
       "    </tr>\n",
       "    <tr>\n",
       "      <th>4</th>\n",
       "      <td>32u09wekjbfje</td>\n",
       "      <td>3434r409km123460</td>\n",
       "      <td>2021-06-27</td>\n",
       "      <td>100790.3333</td>\n",
       "    </tr>\n",
       "  </tbody>\n",
       "</table>\n",
       "</div>"
      ],
      "text/plain": [
       "         loan_id       schedule_id Expected_payment_date  \\\n",
       "0  32u09wekjbfje  3434r409km123456            2021-02-27   \n",
       "1  32u09wekjbfje  3434r409km123457            2021-03-27   \n",
       "2  32u09wekjbfje  3434r409km123458            2021-04-27   \n",
       "3  32u09wekjbfje  3434r409km123459            2021-05-27   \n",
       "4  32u09wekjbfje  3434r409km123460            2021-06-27   \n",
       "\n",
       "   Expected_payment_amount  \n",
       "0              100790.3333  \n",
       "1              100790.3333  \n",
       "2              100790.3333  \n",
       "3              100790.3333  \n",
       "4              100790.3333  "
      ]
     },
     "execution_count": 56,
     "metadata": {},
     "output_type": "execute_result"
    }
   ],
   "source": [
    "payment_schedule_df.head()"
   ]
  },
  {
   "cell_type": "code",
   "execution_count": 57,
   "id": "8b84ed4b-9e78-4ab6-9010-57c2aa7eb399",
   "metadata": {},
   "outputs": [],
   "source": [
    "repayment_df.rename(columns={'Amount_paid':'date_paid'},inplace=True)\n",
    "repayment_df.rename(columns={'Date_paid':'Amount_paid'},inplace=True)"
   ]
  },
  {
   "cell_type": "code",
   "execution_count": null,
   "id": "7b50eabd-b380-4121-bee7-78d3edd5bbb4",
   "metadata": {},
   "outputs": [],
   "source": []
  }
 ],
 "metadata": {
  "kernelspec": {
   "display_name": "Python 3 (ipykernel)",
   "language": "python",
   "name": "python3"
  },
  "language_info": {
   "codemirror_mode": {
    "name": "ipython",
    "version": 3
   },
   "file_extension": ".py",
   "mimetype": "text/x-python",
   "name": "python",
   "nbconvert_exporter": "python",
   "pygments_lexer": "ipython3",
   "version": "3.10.6"
  }
 },
 "nbformat": 4,
 "nbformat_minor": 5
}
